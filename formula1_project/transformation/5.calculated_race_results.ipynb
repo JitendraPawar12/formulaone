{
 "cells": [
  {
   "cell_type": "code",
   "execution_count": 0,
   "metadata": {
    "application/vnd.databricks.v1+cell": {
     "cellMetadata": {
      "byteLimit": 2048000,
      "rowLimit": 10000
     },
     "inputWidgets": {},
     "nuid": "445b84e6-f14b-478b-9ad9-f0da92099220",
     "showTitle": false,
     "tableResultSettingsMap": {},
     "title": ""
    }
   },
   "outputs": [],
   "source": [
    "use f1_processed"
   ]
  },
  {
   "cell_type": "code",
   "execution_count": 0,
   "metadata": {
    "application/vnd.databricks.v1+cell": {
     "cellMetadata": {
      "byteLimit": 2048000,
      "rowLimit": 10000
     },
     "inputWidgets": {},
     "nuid": "4fad1c10-09cd-449a-b065-b49fa894f0b5",
     "showTitle": false,
     "tableResultSettingsMap": {},
     "title": ""
    }
   },
   "outputs": [],
   "source": [
    "drop table f1_presentation.calculated_race_results;\n",
    "create  table f1_presentation.calculated_race_results\n",
    "using parquet\n",
    "as\n",
    "select\n",
    "races.race_year,constructors.name as team_name,drivers.name as driver_name,results.positionOrder,results.points ,\n",
    "11-results.positionOrder as calculated_points\n",
    "from f1_processed.results  \n",
    "join f1_processed.drivers drivers \n",
    "on results.driver_id = drivers.driver_id \n",
    "join f1_processed.constructors constructors\n",
    "on results.constructor_id = constructors.constructor_id\n",
    "join f1_processed.races races\n",
    "on results.race_id = races.race_id\n",
    "where positionOrder>0"
   ]
  },
  {
   "cell_type": "code",
   "execution_count": 0,
   "metadata": {
    "application/vnd.databricks.v1+cell": {
     "cellMetadata": {
      "byteLimit": 2048000,
      "rowLimit": 10000
     },
     "inputWidgets": {},
     "nuid": "7ee6c823-7044-4058-a459-4252f7c25e18",
     "showTitle": false,
     "tableResultSettingsMap": {},
     "title": ""
    }
   },
   "outputs": [],
   "source": [
    "select * from  f1_presentation.calculated_race_results"
   ]
  }
 ],
 "metadata": {
  "application/vnd.databricks.v1+notebook": {
   "computePreferences": null,
   "dashboards": [],
   "environmentMetadata": {
    "base_environment": "",
    "environment_version": "2"
   },
   "inputWidgetPreferences": null,
   "language": "sql",
   "notebookMetadata": {
    "pythonIndentUnit": 4
   },
   "notebookName": "5.calculated_race_results",
   "widgets": {}
  },
  "language_info": {
   "name": "sql"
  }
 },
 "nbformat": 4,
 "nbformat_minor": 0
}
