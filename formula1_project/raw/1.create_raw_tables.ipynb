{
 "cells": [
  {
   "cell_type": "code",
   "execution_count": 0,
   "metadata": {
    "application/vnd.databricks.v1+cell": {
     "cellMetadata": {
      "byteLimit": 2048000,
      "rowLimit": 10000
     },
     "inputWidgets": {},
     "nuid": "2018eb9c-c56c-45c0-ac8d-45a6adc63092",
     "showTitle": false,
     "tableResultSettingsMap": {},
     "title": ""
    }
   },
   "outputs": [],
   "source": [
    "CREATE DATABASE if not exists f1_raw;"
   ]
  },
  {
   "cell_type": "code",
   "execution_count": 0,
   "metadata": {
    "application/vnd.databricks.v1+cell": {
     "cellMetadata": {
      "byteLimit": 2048000,
      "rowLimit": 10000
     },
     "inputWidgets": {},
     "nuid": "d010f12f-0322-4106-9fb1-7b3a717bc3b1",
     "showTitle": false,
     "tableResultSettingsMap": {},
     "title": ""
    }
   },
   "outputs": [],
   "source": [
    "DROP TABLE IF EXISTS f1_raw.circuits;\n",
    "\n",
    "Create table if not exists  f1_raw.circuits\n",
    "(\n",
    "circuitRef string,\n",
    "name string,\n",
    "location string,\n",
    "country string,\n",
    "lat double,\n",
    "lang double,\n",
    "alt int,\n",
    "url string\n",
    "\n",
    ")\n",
    "USING csv\n",
    "OPTIONS (path \"/mnt/formula1dljit/raw/circuits.csv\",header \"true\")"
   ]
  },
  {
   "cell_type": "code",
   "execution_count": 0,
   "metadata": {
    "application/vnd.databricks.v1+cell": {
     "cellMetadata": {},
     "inputWidgets": {},
     "nuid": "a293aed8-79a9-4b9f-8e98-33e1c234d7c6",
     "showTitle": false,
     "tableResultSettingsMap": {},
     "title": ""
    }
   },
   "outputs": [],
   "source": []
  },
  {
   "cell_type": "markdown",
   "metadata": {
    "application/vnd.databricks.v1+cell": {
     "cellMetadata": {},
     "inputWidgets": {},
     "nuid": "373e076a-76d0-4751-80e6-5a5aad0749df",
     "showTitle": false,
     "tableResultSettingsMap": {},
     "title": ""
    }
   },
   "source": [
    "Create races table"
   ]
  },
  {
   "cell_type": "code",
   "execution_count": 0,
   "metadata": {
    "application/vnd.databricks.v1+cell": {
     "cellMetadata": {
      "byteLimit": 2048000,
      "rowLimit": 10000
     },
     "inputWidgets": {},
     "nuid": "a15dac24-c152-4a0a-9947-7050715cdca2",
     "showTitle": false,
     "tableResultSettingsMap": {},
     "title": ""
    }
   },
   "outputs": [],
   "source": [
    "drop table if exists f1_raw.results;\n",
    "\n",
    "Create table if not exists  f1_raw.results\n",
    "(\n",
    "  raceId int,\n",
    "  year int,\n",
    "  round int,\n",
    "  circuit_id int,\n",
    "  name string,\n",
    "  date string,\n",
    "  time string,\n",
    "  url string\n",
    ")\n",
    "using csv\n",
    "OPTIONS (path \"/mnt/formula1dljit/raw/results.csv\",header \"true\")"
   ]
  },
  {
   "cell_type": "markdown",
   "metadata": {
    "application/vnd.databricks.v1+cell": {
     "cellMetadata": {},
     "inputWidgets": {},
     "nuid": "cbe6791f-b5e7-4715-9a3d-6db998a03050",
     "showTitle": false,
     "tableResultSettingsMap": {},
     "title": ""
    }
   },
   "source": [
    "Create table from JSON files"
   ]
  },
  {
   "cell_type": "code",
   "execution_count": 0,
   "metadata": {
    "application/vnd.databricks.v1+cell": {
     "cellMetadata": {
      "byteLimit": 2048000,
      "rowLimit": 10000
     },
     "inputWidgets": {},
     "nuid": "55f5c266-358b-497c-a0a0-3c3e48565448",
     "showTitle": false,
     "tableResultSettingsMap": {},
     "title": ""
    }
   },
   "outputs": [],
   "source": [
    "drop table if exists f1_raw.constructors;\n",
    "create table if not exists  f1_raw.constructors\n",
    "(\n",
    "constructorId int,\n",
    "constructorRef string,\n",
    "name string,\n",
    "nationality string,\n",
    "url string\n",
    ")\n",
    "using json\n",
    "options (path \"/mnt/formula1dljit/raw/constructors.json\")"
   ]
  },
  {
   "cell_type": "code",
   "execution_count": 0,
   "metadata": {
    "application/vnd.databricks.v1+cell": {
     "cellMetadata": {
      "byteLimit": 2048000,
      "rowLimit": 10000
     },
     "inputWidgets": {},
     "nuid": "52120564-05ee-4557-a8d8-d47523b2e38c",
     "showTitle": false,
     "tableResultSettingsMap": {},
     "title": ""
    }
   },
   "outputs": [],
   "source": [
    "DROP TABLE IF EXISTS f1_raw.drivers;\n",
    "create table if not exists  f1_raw.drivers\n",
    "(\n",
    "driverId int,\n",
    "driverRef string,\n",
    "number int,\n",
    "code string,\n",
    "name STRUCT<forename:string,surname:string>,\n",
    "dob date,\n",
    "nationality string,\n",
    "url string\n",
    ")\n",
    "using json\n",
    "options(path \"/mnt/formula1dljit/raw/drivers.json\")\n"
   ]
  },
  {
   "cell_type": "code",
   "execution_count": 0,
   "metadata": {
    "application/vnd.databricks.v1+cell": {
     "cellMetadata": {
      "byteLimit": 2048000,
      "rowLimit": 10000
     },
     "inputWidgets": {},
     "nuid": "1fdb911f-5520-45e3-a85f-d80da7677431",
     "showTitle": false,
     "tableResultSettingsMap": {},
     "title": ""
    }
   },
   "outputs": [],
   "source": [
    "DROP TABLE IF EXISTS f1_raw.results;\n",
    "\n",
    "create table if not exists  f1_raw.results\n",
    "(\n",
    "  resultId int,\n",
    "  raceId int,\n",
    "  driverId int,\n",
    "  constructorId int,\n",
    "  number int,\n",
    "  grid int,\n",
    "  position int,\n",
    "  positionText string,\n",
    "  positionOrder int,\n",
    "  points double,\n",
    "  laps int,\n",
    "  time string,\n",
    "  milliseconds int,\n",
    "  fastestLap int,\n",
    "  rank int,\n",
    "  fastestLapTime string,\n",
    "  fastestLapSpeed double,\n",
    "  statusId int\n",
    "\n",
    ")\n",
    "using json\n",
    "options(path \"/mnt/formula1dljit/raw/results.json\")\n"
   ]
  },
  {
   "cell_type": "code",
   "execution_count": 0,
   "metadata": {
    "application/vnd.databricks.v1+cell": {
     "cellMetadata": {
      "byteLimit": 2048000,
      "rowLimit": 10000
     },
     "inputWidgets": {},
     "nuid": "27c1ce15-e023-4892-9ed3-70e49a5fc380",
     "showTitle": false,
     "tableResultSettingsMap": {},
     "title": ""
    }
   },
   "outputs": [],
   "source": [
    "drop table if  exists f1_raw.pit_stop;\n",
    "create table if not exists  f1_raw.pit_stop\n",
    "(\n",
    "driverId int,\n",
    "duration  string,\n",
    "lap int,\n",
    "milliseconds int,\n",
    "raceid int,\n",
    "stop int,\n",
    "time string\n",
    ")\n",
    "using json\n",
    "options(path \"/mnt/formula1dljit/raw/pit_stops.json\",multiLine true)"
   ]
  },
  {
   "cell_type": "code",
   "execution_count": 0,
   "metadata": {
    "application/vnd.databricks.v1+cell": {
     "cellMetadata": {
      "byteLimit": 2048000,
      "rowLimit": 10000
     },
     "inputWidgets": {},
     "nuid": "38fda527-76d5-4758-963e-8e74daf4a516",
     "showTitle": false,
     "tableResultSettingsMap": {},
     "title": ""
    }
   },
   "outputs": [],
   "source": [
    "select * from f1_raw.pit_stop"
   ]
  },
  {
   "cell_type": "code",
   "execution_count": 0,
   "metadata": {
    "application/vnd.databricks.v1+cell": {
     "cellMetadata": {
      "byteLimit": 2048000,
      "rowLimit": 10000
     },
     "inputWidgets": {},
     "nuid": "fee169ae-5745-4035-a348-2d1a54f35acb",
     "showTitle": false,
     "tableResultSettingsMap": {},
     "title": ""
    }
   },
   "outputs": [],
   "source": [
    "drop table if exists f1_raw.lap_times;\n",
    "create table if not exists  f1_raw.lap_times\n",
    "(\n",
    "  raceId int,\n",
    "  driverId int,\n",
    "  lap int,\n",
    "  position int,\n",
    "  time string,\n",
    "  milliseconds int\n",
    ")\n",
    "using csv\n",
    "options(path \"/mnt/formula1dljit/raw/lap_times\")"
   ]
  },
  {
   "cell_type": "code",
   "execution_count": 0,
   "metadata": {
    "application/vnd.databricks.v1+cell": {
     "cellMetadata": {
      "byteLimit": 2048000,
      "rowLimit": 10000
     },
     "inputWidgets": {},
     "nuid": "acceb88e-96c3-4cfa-9f49-f318f96b505b",
     "showTitle": false,
     "tableResultSettingsMap": {},
     "title": ""
    }
   },
   "outputs": [],
   "source": [
    "drop table if exists f1_raw.qualifying;\n",
    "create table if not exists  f1_raw.qualifying\n",
    "(\n",
    "qualifyId int,\n",
    "raceId int,\n",
    "driverId int,\n",
    "constructorId int,\n",
    "number int,\n",
    "position int,\n",
    "q1 string,\n",
    "q2 string,\n",
    "q3 string)\n",
    "using json\n",
    "options(path \"/mnt/formula1dljit/raw/qualifying\",multiLine true)\n"
   ]
  },
  {
   "cell_type": "code",
   "execution_count": 0,
   "metadata": {
    "application/vnd.databricks.v1+cell": {
     "cellMetadata": {
      "byteLimit": 2048000,
      "rowLimit": 10000
     },
     "inputWidgets": {},
     "nuid": "b8173ba8-a7b4-4d2e-802d-64b7dc63d4a3",
     "showTitle": false,
     "tableResultSettingsMap": {},
     "title": ""
    }
   },
   "outputs": [],
   "source": [
    "select * from f1_raw.qualifying"
   ]
  },
  {
   "cell_type": "code",
   "execution_count": 0,
   "metadata": {
    "application/vnd.databricks.v1+cell": {
     "cellMetadata": {
      "byteLimit": 2048000,
      "rowLimit": 10000
     },
     "inputWidgets": {},
     "nuid": "071ccf5b-1371-4204-b798-07c6be495841",
     "showTitle": false,
     "tableResultSettingsMap": {},
     "title": ""
    }
   },
   "outputs": [],
   "source": [
    "describe extended f1_raw.qualifying"
   ]
  },
  {
   "cell_type": "code",
   "execution_count": 0,
   "metadata": {
    "application/vnd.databricks.v1+cell": {
     "cellMetadata": {
      "byteLimit": 2048000,
      "rowLimit": 10000
     },
     "inputWidgets": {},
     "nuid": "f976da51-62ac-4aaf-ad4e-689971c3c4ea",
     "showTitle": false,
     "tableResultSettingsMap": {},
     "title": ""
    }
   },
   "outputs": [],
   "source": [
    "drop table if exists f1_raw.races;\n",
    "create table if not exists f1_raw.races\n",
    "(\n",
    "raceId int,\n",
    "year int,\n",
    "round int,\n",
    "circuitId int,\n",
    "name string,\n",
    "date string,\n",
    "time string,\n",
    "url string\n",
    ")\n",
    "using csv\n",
    "options(path \"/mnt/formula1dljit/raw/races.csv\")"
   ]
  }
 ],
 "metadata": {
  "application/vnd.databricks.v1+notebook": {
   "computePreferences": null,
   "dashboards": [],
   "environmentMetadata": {
    "base_environment": "",
    "environment_version": "2"
   },
   "inputWidgetPreferences": null,
   "language": "sql",
   "notebookMetadata": {
    "pythonIndentUnit": 4
   },
   "notebookName": "1.create_raw_tables",
   "widgets": {}
  },
  "language_info": {
   "name": "sql"
  }
 },
 "nbformat": 4,
 "nbformat_minor": 0
}
