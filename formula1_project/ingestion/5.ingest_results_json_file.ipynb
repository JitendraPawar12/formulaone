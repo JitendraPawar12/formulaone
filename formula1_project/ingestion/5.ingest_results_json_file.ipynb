{
 "cells": [
  {
   "cell_type": "code",
   "execution_count": 0,
   "metadata": {
    "application/vnd.databricks.v1+cell": {
     "cellMetadata": {
      "byteLimit": 2048000,
      "rowLimit": 10000
     },
     "inputWidgets": {},
     "nuid": "6ad89582-5325-41c7-9d92-2aca30a18c4a",
     "showTitle": false,
     "tableResultSettingsMap": {},
     "title": ""
    }
   },
   "outputs": [],
   "source": [
    "from pyspark.sql.types import StructType, StructField, StringType, IntegerType,DateType,DoubleType"
   ]
  },
  {
   "cell_type": "code",
   "execution_count": 0,
   "metadata": {
    "application/vnd.databricks.v1+cell": {
     "cellMetadata": {
      "byteLimit": 2048000,
      "rowLimit": 10000
     },
     "inputWidgets": {},
     "nuid": "ca3819a7-db99-496f-b0c7-1899532fdf4a",
     "showTitle": false,
     "tableResultSettingsMap": {},
     "title": ""
    }
   },
   "outputs": [],
   "source": [
    "results_schema=StructType(\n",
    "[\n",
    "    StructField(\"resultId\", IntegerType()),\n",
    "    StructField(\"raceId\", IntegerType()),\n",
    "    StructField(\"driverId\", IntegerType()),\n",
    "    StructField(\"constructorId\", IntegerType()),\n",
    "    StructField(\"number\", IntegerType()),\n",
    "    StructField(\"grid\", IntegerType()),\n",
    "    StructField(\"position\", IntegerType()),\n",
    "    StructField(\"positionText\", StringType()),\n",
    "    StructField(\"positionOrder\", IntegerType()),\n",
    "    StructField(\"points\", DoubleType()),\n",
    "    StructField(\"laps\", IntegerType()),\n",
    "    StructField(\"time\", StringType()),\n",
    "    StructField(\"milliseconds\", IntegerType()),\n",
    "    StructField(\"fastestLap\", IntegerType()),\n",
    "    StructField(\"rank\", IntegerType()),\n",
    "    StructField(\"fastestLapTime\", StringType()),\n",
    "    StructField(\"fastestLapSpeed\", StringType()),\n",
    "    StructField(\"statusId\", IntegerType())])"
   ]
  },
  {
   "cell_type": "code",
   "execution_count": 0,
   "metadata": {
    "application/vnd.databricks.v1+cell": {
     "cellMetadata": {
      "byteLimit": 2048000,
      "rowLimit": 10000
     },
     "inputWidgets": {},
     "nuid": "e3bc44d3-d18d-4b73-8e22-3cbb5e99d893",
     "showTitle": false,
     "tableResultSettingsMap": {},
     "title": ""
    }
   },
   "outputs": [],
   "source": [
    "results_df=spark.read.schema(results_schema).json(\"/mnt/formula1dljit/raw/results.json\")"
   ]
  },
  {
   "cell_type": "code",
   "execution_count": 0,
   "metadata": {
    "application/vnd.databricks.v1+cell": {
     "cellMetadata": {
      "byteLimit": 2048000,
      "rowLimit": 10000
     },
     "inputWidgets": {},
     "nuid": "d693747e-6ee8-49d0-840b-18195a07f50e",
     "showTitle": false,
     "tableResultSettingsMap": {},
     "title": ""
    }
   },
   "outputs": [],
   "source": [
    "display(results_df)"
   ]
  },
  {
   "cell_type": "code",
   "execution_count": 0,
   "metadata": {
    "application/vnd.databricks.v1+cell": {
     "cellMetadata": {
      "byteLimit": 2048000,
      "rowLimit": 10000
     },
     "inputWidgets": {},
     "nuid": "25eee1f5-c788-4490-b58c-835874baa9e8",
     "showTitle": false,
     "tableResultSettingsMap": {},
     "title": ""
    }
   },
   "outputs": [],
   "source": [
    "from pyspark.sql.functions import current_date"
   ]
  },
  {
   "cell_type": "code",
   "execution_count": 0,
   "metadata": {
    "application/vnd.databricks.v1+cell": {
     "cellMetadata": {
      "byteLimit": 2048000,
      "rowLimit": 10000
     },
     "inputWidgets": {},
     "nuid": "7d823876-f961-422d-9027-87c794b24049",
     "showTitle": false,
     "tableResultSettingsMap": {},
     "title": ""
    }
   },
   "outputs": [],
   "source": [
    "results_df_final=results_df.withColumnRenamed(\"resultId\",\"result_id\").\\\n",
    "    withColumnRenamed(\"raceId\",\"race_id\").\\\n",
    "    withColumnRenamed(\"driverId\",\"driver_id\").\\\n",
    "    withColumnRenamed(\"constructorId\",\"constructor_id\").\\\n",
    "    withColumnRenamed(\"position\",\"position_text\").\\\n",
    "    withColumnRenamed(\"position\",\"position_order\").\\\n",
    "    withColumnRenamed(\"fastestLap\",\"fastest_lap\").\\\n",
    "    withColumnRenamed(\"fastestLapTime\",\"fastest_lap_time\").\\\n",
    "    withColumnRenamed(\"fastestLapSpeed\",\"fastest_lap_speed\").\\\n",
    "    drop(\"statusId\").\\\n",
    "    withColumn(\"ingest_date\",current_date())        "
   ]
  },
  {
   "cell_type": "code",
   "execution_count": 0,
   "metadata": {
    "application/vnd.databricks.v1+cell": {
     "cellMetadata": {
      "byteLimit": 2048000,
      "rowLimit": 10000
     },
     "inputWidgets": {},
     "nuid": "d99e9e92-4697-4570-91df-c26e9c4dc0b2",
     "showTitle": false,
     "tableResultSettingsMap": {},
     "title": ""
    }
   },
   "outputs": [],
   "source": [
    "display(results_df_final)"
   ]
  },
  {
   "cell_type": "code",
   "execution_count": 0,
   "metadata": {
    "application/vnd.databricks.v1+cell": {
     "cellMetadata": {
      "byteLimit": 2048000,
      "rowLimit": 10000
     },
     "inputWidgets": {},
     "nuid": "fba3a873-33df-4070-a15e-0b4a3873b924",
     "showTitle": false,
     "tableResultSettingsMap": {},
     "title": ""
    }
   },
   "outputs": [],
   "source": [
    "results_df_final.write.mode(\"overwrite\").parquet(\"/mnt/formula1dljit/processed/results/\")"
   ]
  },
  {
   "cell_type": "code",
   "execution_count": 0,
   "metadata": {
    "application/vnd.databricks.v1+cell": {
     "cellMetadata": {
      "byteLimit": 2048000,
      "rowLimit": 10000
     },
     "inputWidgets": {},
     "nuid": "c24cba31-ec42-4901-b276-4650a329b584",
     "showTitle": false,
     "tableResultSettingsMap": {},
     "title": ""
    }
   },
   "outputs": [],
   "source": [
    "spark.read.parquet(\"/mnt/formula1dljit/processed/results/\").display()"
   ]
  }
 ],
 "metadata": {
  "application/vnd.databricks.v1+notebook": {
   "computePreferences": null,
   "dashboards": [],
   "environmentMetadata": {
    "base_environment": "",
    "environment_version": "2"
   },
   "inputWidgetPreferences": null,
   "language": "python",
   "notebookMetadata": {
    "pythonIndentUnit": 4
   },
   "notebookName": "5.ingest_results_json_file",
   "widgets": {}
  },
  "language_info": {
   "name": "python"
  }
 },
 "nbformat": 4,
 "nbformat_minor": 0
}
